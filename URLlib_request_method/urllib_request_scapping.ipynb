{
 "cells": [
  {
   "cell_type": "code",
   "execution_count": 1,
   "metadata": {},
   "outputs": [],
   "source": [
    "import urllib.request"
   ]
  },
  {
   "cell_type": "code",
   "execution_count": 2,
   "metadata": {},
   "outputs": [
    {
     "data": {
      "text/plain": [
       "792353"
      ]
     },
     "execution_count": 2,
     "metadata": {},
     "output_type": "execute_result"
    }
   ],
   "source": [
    "url = 'https://gutenberg.org/cache/epub/72216/pg72216.txt' \n",
    "response = urllib.request.urlopen(url)\n",
    "data = response.read().decode('utf8')\n",
    "len(data)"
   ]
  },
  {
   "cell_type": "code",
   "execution_count": 3,
   "metadata": {},
   "outputs": [
    {
     "name": "stdout",
     "output_type": "stream",
     "text": [
      "The Project Gutenberg eBook of Cicero and his friends\n",
      "    \n",
      "This ebook is for the use of anyone anywhere in the United States and\n",
      "most other parts of the world at no cost and with almost no restrictions\n",
      "whatsoever. You may copy it, give it away or re-use it under the terms\n",
      "of the Project Gutenberg License included with this ebook or online\n",
      "at www.gutenberg.org. If you are not located in the United States,\n",
      "you will have to check the laws of the country where you are located\n",
      "before using t\n"
     ]
    }
   ],
   "source": [
    "data = data\n",
    "print(data[:500])"
   ]
  },
  {
   "cell_type": "code",
   "execution_count": 4,
   "metadata": {},
   "outputs": [
    {
     "name": "stdout",
     "output_type": "stream",
     "text": [
      "The Project Gutenberg eBook of Cicero and his friends\n",
      "\n",
      "\n",
      "\n",
      "-------------------\n",
      "\n",
      "\n",
      "\n",
      "    \n",
      "\n",
      "\n",
      "\n",
      "-------------------\n",
      "\n",
      "\n",
      "\n",
      "This ebook is for the use of anyone anywhere in the United States and\n",
      "\n",
      "\n",
      "\n",
      "-------------------\n",
      "\n",
      "\n",
      "\n",
      "most other parts of the world at no cost and with almost no restrictions\n",
      "\n",
      "\n",
      "\n",
      "-------------------\n",
      "\n",
      "\n",
      "\n",
      "whatsoever. You may copy it, give it away or re-use it under the terms\n",
      "\n",
      "\n",
      "\n",
      "-------------------\n",
      "\n",
      "\n",
      "\n",
      "of the Project Gutenberg License included with this ebook or online\n",
      "\n",
      "\n",
      "\n",
      "-------------------\n",
      "\n",
      "\n",
      "\n",
      "at www.gutenberg.org. If you are not located in the United States,\n",
      "\n",
      "\n",
      "\n",
      "-------------------\n",
      "\n",
      "\n",
      "\n",
      "you will have to check the laws of the country where you are located\n",
      "\n",
      "\n",
      "\n",
      "-------------------\n",
      "\n",
      "\n",
      "\n",
      "before using this eBook.\n",
      "\n",
      "\n",
      "\n",
      "-------------------\n",
      "\n",
      "\n",
      "\n",
      "\n",
      "\n",
      "\n",
      "\n",
      "-------------------\n",
      "\n",
      "\n",
      "\n"
     ]
    }
   ],
   "source": [
    "for n in range(10) : \n",
    "    print(data.split('\\n')[n])\n",
    "    print('\\n\\n\\n-------------------\\n\\n\\n')"
   ]
  },
  {
   "cell_type": "code",
   "execution_count": 6,
   "metadata": {},
   "outputs": [
    {
     "name": "stdout",
     "output_type": "stream",
     "text": [
      "['\\ufeffThe', 'Project', 'Gutenberg', 'eBook', 'of', 'Cicero', 'and', 'his', 'friends']\n",
      "[]\n",
      "['This', 'ebook', 'is', 'for', 'the', 'use', 'of', 'anyone', 'anywhere', 'in', 'the', 'United', 'States', 'and']\n",
      "['most', 'other', 'parts', 'of', 'the', 'world', 'at', 'no', 'cost', 'and', 'with', 'almost', 'no', 'restrictions']\n",
      "['whatsoever.', 'You', 'may', 'copy', 'it,', 'give', 'it', 'away', 'or', 're-use', 'it', 'under', 'the', 'terms']\n",
      "['of', 'the', 'Project', 'Gutenberg', 'License', 'included', 'with', 'this', 'ebook', 'or', 'online']\n",
      "['at', 'www.gutenberg.org.', 'If', 'you', 'are', 'not', 'located', 'in', 'the', 'United', 'States,']\n",
      "['you', 'will', 'have', 'to', 'check', 'the', 'laws', 'of', 'the', 'country', 'where', 'you', 'are', 'located']\n",
      "['before', 'using', 'this', 'eBook.']\n",
      "[]\n",
      "['Title:', 'Cicero', 'and', 'his', 'friends']\n",
      "['A', 'study', 'of', 'Roman', 'society', 'in', 'the', 'time', 'of', 'Caesar']\n",
      "[]\n",
      "[]\n",
      "['Author:', 'Gaston', 'Boissier']\n",
      "[]\n",
      "['Translator:', 'Adnah', 'David', 'Jones']\n",
      "[]\n",
      "['Release', 'date:', 'November', '24,', '2023', '[eBook', '#72216]']\n",
      "[]\n"
     ]
    }
   ],
   "source": [
    "for n in range(20) : \n",
    "    print(data.split('\\n')[n].split())"
   ]
  },
  {
   "cell_type": "code",
   "execution_count": 9,
   "metadata": {},
   "outputs": [],
   "source": [
    "url = 'https://github.com/tensorflow/datasets/blob/master/tensorflow_datasets/datasets/efron_morris75/dummy_data/efron-morris-75-data.tsv'\n",
    "response = urllib.request.urlopen(url)\n",
    "data = response.read().decode('utf8')\n",
    "data= data"
   ]
  },
  {
   "cell_type": "code",
   "execution_count": 12,
   "metadata": {},
   "outputs": [
    {
     "name": "stdout",
     "output_type": "stream",
     "text": [
      "\n",
      "\n",
      "\n",
      "\n",
      "\n",
      "\n",
      "<!DOCTYPE html>\n",
      "<html lang=\"en\" data-color-mode=\"auto\" data-light-theme=\"light\" data-dark-them\n"
     ]
    }
   ],
   "source": [
    "print(data[:100])"
   ]
  },
  {
   "cell_type": "code",
   "execution_count": null,
   "metadata": {},
   "outputs": [],
   "source": [
    "f = open('test.txt','w')\n",
    "f.write(data)\n",
    "f.close()"
   ]
  }
 ],
 "metadata": {
  "kernelspec": {
   "display_name": "base",
   "language": "python",
   "name": "python3"
  },
  "language_info": {
   "codemirror_mode": {
    "name": "ipython",
    "version": 3
   },
   "file_extension": ".py",
   "mimetype": "text/x-python",
   "name": "python",
   "nbconvert_exporter": "python",
   "pygments_lexer": "ipython3",
   "version": "3.8.8 (default, Apr 13 2021, 19:58:26) \n[GCC 7.3.0]"
  },
  "orig_nbformat": 4,
  "vscode": {
   "interpreter": {
    "hash": "882807ebe06097f79e5f3ac50e8080c065797110a2a9abbb1dabbd30a83538b9"
   }
  }
 },
 "nbformat": 4,
 "nbformat_minor": 2
}
