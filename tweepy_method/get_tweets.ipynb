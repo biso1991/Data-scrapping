{
 "cells": [
  {
   "cell_type": "code",
   "execution_count": 1,
   "metadata": {},
   "outputs": [],
   "source": [
    "import pandas as pd\n",
    "import json"
   ]
  },
  {
   "cell_type": "code",
   "execution_count": null,
   "metadata": {},
   "outputs": [],
   "source": [
    "file = open('Tweets.json','r',encoding = 'utf-8')\n",
    "Text = ''\n",
    "(data)\n",
    "len(data)\n",
    "data[0]\n",
    "type(data[0])\n",
    "AllKeys = []file = open('Tweets.json','r',encoding = 'utf-8')\n",
    "Text = ''\n",
    "for line in file : \n",
    "    Text = line\n",
    "len(Text)\n",
    "type(Text)\n",
    "f = open('6.1.5 Tweets.json',encoding = 'utf-8')\n",
    "data = json.load(f)  \n",
    "type(data)\n",
    "len(data)\n",
    "data[0]\n",
    "type(data[0])\n",
    "AllKeys = []\n",
    "for i in data : \n",
    "    AllKeys.extend(i.keys())\n",
    "set(AllKeys)    \n",
    "Data = pd.DataFrame(columns = set(AllKeys))\n",
    "Data.head()\n",
    "for j,i in enumerate(data) :\n",
    "    Data.loc[j] = 0\n",
    "    for a,b in i.items() : \n",
    "        Data.loc[j][a] = str(b)\n",
    "Data.head()\n",
    "Data.shape\n",
    "Data.to_csv('downloaded tweets.csv',encoding = 'utf-8')"
   ]
  }
 ],
 "metadata": {
  "kernelspec": {
   "display_name": "base",
   "language": "python",
   "name": "python3"
  },
  "language_info": {
   "name": "python",
   "version": "3.8.8 (default, Apr 13 2021, 19:58:26) \n[GCC 7.3.0]"
  },
  "orig_nbformat": 4,
  "vscode": {
   "interpreter": {
    "hash": "882807ebe06097f79e5f3ac50e8080c065797110a2a9abbb1dabbd30a83538b9"
   }
  }
 },
 "nbformat": 4,
 "nbformat_minor": 2
}
